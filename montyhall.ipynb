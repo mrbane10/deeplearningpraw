{
 "cells": [
  {
   "cell_type": "code",
   "execution_count": 15,
   "metadata": {},
   "outputs": [],
   "source": [
    "import numpy as np\n",
    "def monty_hall():\n",
    "    doors=np.array([0,0,0]) #lets assume all doors have goats initially\n",
    "    winner_index=np.random.randint(0,3)\n",
    "    doors[winner_index]=1 #winner door\n",
    "\n",
    "    choice =np.random.randint(0,3) #my initial choice\n",
    "    \n",
    "    openable_doors = [i for i in range(3) if i!=choice and doors[i]==0]\n",
    "    #door opened by the host\n",
    "    door_to_open=np.random.choice(openable_doors)\n",
    "    switch=input(\"Do you want to switch? (y/n): \")\n",
    "    if switch==\"y\":\n",
    "        choice=[i for i in range(3) if i!=choice and i!=door_to_open][0]\n",
    "    else:\n",
    "        choice=choice\n",
    "    return doors[choice]"
   ]
  },
  {
   "cell_type": "code",
   "execution_count": 16,
   "metadata": {},
   "outputs": [
    {
     "data": {
      "text/plain": [
       "1"
      ]
     },
     "execution_count": 16,
     "metadata": {},
     "output_type": "execute_result"
    }
   ],
   "source": [
    "monty_hall()"
   ]
  },
  {
   "cell_type": "code",
   "execution_count": null,
   "metadata": {},
   "outputs": [],
   "source": []
  }
 ],
 "metadata": {
  "kernelspec": {
   "display_name": "Python 3",
   "language": "python",
   "name": "python3"
  },
  "language_info": {
   "codemirror_mode": {
    "name": "ipython",
    "version": 3
   },
   "file_extension": ".py",
   "mimetype": "text/x-python",
   "name": "python",
   "nbconvert_exporter": "python",
   "pygments_lexer": "ipython3",
   "version": "3.11.4"
  }
 },
 "nbformat": 4,
 "nbformat_minor": 2
}
