{
 "cells": [
  {
   "cell_type": "code",
   "execution_count": 18,
   "id": "288fd6da",
   "metadata": {},
   "outputs": [],
   "source": [
    "import torch \n",
    "import torch.nn as nn\n",
    "import torchvision\n",
    "from torch.utils.data import DataLoader\n",
    "from torchvision import datasets\n",
    "from torchvision.transforms import ToTensor"
   ]
  },
  {
   "cell_type": "code",
   "execution_count": 9,
   "id": "1595cf35",
   "metadata": {},
   "outputs": [],
   "source": [
    "training_data = datasets.FashionMNIST(\n",
    "    root = 'data',\n",
    "    train = True,\n",
    "    download = True,\n",
    "    transform = ToTensor()\n",
    ")\n",
    "\n",
    "test_data = datasets.FashionMNIST(\n",
    "    root = 'data',\n",
    "    train = False,\n",
    "    download = True,\n",
    "    transform = ToTensor()\n",
    ") "
   ]
  },
  {
   "cell_type": "markdown",
   "id": "3695fa3d",
   "metadata": {},
   "source": [
    "We pass the Dataset as an argument to `DataLoader`. This wraps an iterable over our dataset, and supports automatic `batching`, `sampling`, `shuffling` and `multiprocess data loading`."
   ]
  },
  {
   "cell_type": "code",
   "execution_count": 10,
   "id": "c933fe0f",
   "metadata": {},
   "outputs": [],
   "source": [
    "batch_size = 64\n",
    "# create the dataloaders\n",
    "train_dataloader = DataLoader(training_data, batch_size = batch_size)\n",
    "test_dataloader = DataLoader(test_data, batch_size=batch_size)"
   ]
  },
  {
   "cell_type": "code",
   "execution_count": null,
   "id": "bf0bd6e1",
   "metadata": {},
   "outputs": [
    {
     "name": "stdout",
     "output_type": "stream",
     "text": [
      "The shape of the x [N,H,W,C] is : torch.Size([64, 1, 28, 28])\n",
      "The shape of Y : torch.Size([64])\n"
     ]
    }
   ],
   "source": [
    "for x, y in test_dataloader:\n",
    "    print(\"The shape of the x [N,C,H,W] is : {}\". format(x.shape))\n",
    "    print(\"The shape of Y : {}\". format(y.shape))\n",
    "    break"
   ]
  },
  {
   "cell_type": "code",
   "execution_count": 15,
   "id": "5c6d137d",
   "metadata": {},
   "outputs": [
    {
     "data": {
      "text/plain": [
       "device(type='mps')"
      ]
     },
     "execution_count": 15,
     "metadata": {},
     "output_type": "execute_result"
    }
   ],
   "source": [
    "device = torch.accelerator.current_accelerator() if torch.accelerator.is_available() else 'cpu'\n",
    "device"
   ]
  },
  {
   "cell_type": "code",
   "execution_count": 20,
   "id": "84b07fdc",
   "metadata": {},
   "outputs": [
    {
     "name": "stdout",
     "output_type": "stream",
     "text": [
      "NeuralNetwork(\n",
      "  (flatten): Flatten(start_dim=1, end_dim=-1)\n",
      "  (linear_relu_stack): Sequential(\n",
      "    (0): Linear(in_features=784, out_features=512, bias=True)\n",
      "    (1): ReLU()\n",
      "    (2): Linear(in_features=512, out_features=512, bias=True)\n",
      "    (3): ReLU()\n",
      "    (4): Linear(in_features=512, out_features=10, bias=True)\n",
      "  )\n",
      ")\n"
     ]
    }
   ],
   "source": [
    "#defining the model\n",
    "\n",
    "class NeuralNetwork(nn.Module):\n",
    "    def __init__(self):\n",
    "        super().__init__() # initialises the nn.Module\n",
    "        self.flatten = nn.Flatten()\n",
    "        self.linear_relu_stack = nn.Sequential(\n",
    "            nn.Linear(28*28, 512),\n",
    "            nn.ReLU(),\n",
    "            nn.Linear(512, 512),\n",
    "            nn.ReLU(),\n",
    "            nn.Linear(512, 10)\n",
    "        )\n",
    "    def forward(self, x):\n",
    "        x = self.flatten(x)\n",
    "        logits = self.linear_relu_stack(x)\n",
    "        return logits\n",
    "        \n",
    "model = NeuralNetwork().to(device)\n",
    "print(model)"
   ]
  },
  {
   "cell_type": "code",
   "execution_count": 21,
   "id": "fddb65b8",
   "metadata": {},
   "outputs": [],
   "source": [
    "loss_fn = nn.CrossEntropyLoss()\n",
    "optimizer = torch.optim.AdamW(model.parameters(), lr = 1e-3)"
   ]
  },
  {
   "cell_type": "markdown",
   "id": "92376373",
   "metadata": {},
   "source": [
    "In a single training loop, the model should make predictions on the training data (fed to it in batches), and backpropagate the prediction error to adjust the model’s parameters"
   ]
  },
  {
   "cell_type": "code",
   "execution_count": 25,
   "id": "5e9fbf97",
   "metadata": {},
   "outputs": [],
   "source": [
    "# defining the training loop\n",
    "\n",
    "def train(dataloader, model, loss_fn, optimizer):\n",
    "    size = len(dataloader.dataset)\n",
    "    model.train()\n",
    "    for batch, (x,y) in enumerate(dataloader): \n",
    "        x,y = x.to(device), y.to(device)\n",
    "        \n",
    "        pred = model(x)\n",
    "        \n",
    "        loss = loss_fn(pred, y)\n",
    "        \n",
    "        loss.backward()\n",
    "        \n",
    "        optimizer.step()\n",
    "        \n",
    "        optimizer.zero_grad()\n",
    "        \n",
    "        if batch % 100 == 0 :\n",
    "            print(f\" The loss is {loss.item()} and number of training samples processsed : {(batch + 1)* len(x)}\")\n"
   ]
  },
  {
   "cell_type": "code",
   "execution_count": null,
   "id": "a6cc80c0",
   "metadata": {},
   "outputs": [],
   "source": [
    "def test(dataloader, model, loss_fn):\n",
    "    \n",
    "    num_batches = len(dataloader)\n",
    "    size = len(dataloader.dataset)\n",
    "    model.eval()\n",
    "    test_loss, correct = 0, 0 \n",
    "    \n",
    "    with torch.no_grad(): # Turns off gradient computation (for faster inference and less memory usage)\n",
    "        \n",
    "        for batch, (x,y) in enumerate(dataloader):\n",
    "        \n",
    "            x, y = x.to(device), y.to(device)\n",
    "            \n",
    "            pred = model(x)\n",
    "            test_loss += loss_fn(pred, y).item()\n",
    "            correct += (pred.argmax(1) == y).type(torch.float).sum().item()  #.item() is called on a single valued tensor\n",
    "            \n",
    "    test_loss /= num_batches \n",
    "    correct /= size\n",
    "    print(f\"Test Error: \\n Accuracy: {(100*correct):>0.1f}%, Avg loss: {test_loss:>8f} \\n\")"
   ]
  },
  {
   "cell_type": "code",
   "execution_count": 27,
   "id": "52baf6be",
   "metadata": {},
   "outputs": [
    {
     "name": "stdout",
     "output_type": "stream",
     "text": [
      "Epoch 1 \n",
      "\n",
      " The loss is 2.300150156021118 and number of training samples processsed : 64\n",
      " The loss is 0.5691792368888855 and number of training samples processsed : 6464\n",
      " The loss is 0.3898773789405823 and number of training samples processsed : 12864\n",
      " The loss is 0.49439969658851624 and number of training samples processsed : 19264\n",
      " The loss is 0.4421764314174652 and number of training samples processsed : 25664\n",
      " The loss is 0.4317706823348999 and number of training samples processsed : 32064\n",
      " The loss is 0.37308767437934875 and number of training samples processsed : 38464\n",
      " The loss is 0.522210419178009 and number of training samples processsed : 44864\n",
      " The loss is 0.4747474491596222 and number of training samples processsed : 51264\n",
      " The loss is 0.5466564893722534 and number of training samples processsed : 57664\n",
      "Test Error: \n",
      " Accuracy: 84.2%, Avg loss: 0.425684 \n",
      "\n",
      "Epoch 2 \n",
      "\n",
      " The loss is 0.2752690613269806 and number of training samples processsed : 64\n",
      " The loss is 0.37370142340660095 and number of training samples processsed : 6464\n",
      " The loss is 0.2898799479007721 and number of training samples processsed : 12864\n",
      " The loss is 0.4040291905403137 and number of training samples processsed : 19264\n",
      " The loss is 0.40740397572517395 and number of training samples processsed : 25664\n",
      " The loss is 0.37074005603790283 and number of training samples processsed : 32064\n",
      " The loss is 0.29818016290664673 and number of training samples processsed : 38464\n",
      " The loss is 0.478128582239151 and number of training samples processsed : 44864\n",
      " The loss is 0.4048672914505005 and number of training samples processsed : 51264\n",
      " The loss is 0.44892704486846924 and number of training samples processsed : 57664\n",
      "Test Error: \n",
      " Accuracy: 85.9%, Avg loss: 0.378905 \n",
      "\n",
      "Epoch 3 \n",
      "\n",
      " The loss is 0.1979120671749115 and number of training samples processsed : 64\n",
      " The loss is 0.35062509775161743 and number of training samples processsed : 6464\n",
      " The loss is 0.2337137758731842 and number of training samples processsed : 12864\n",
      " The loss is 0.3239303231239319 and number of training samples processsed : 19264\n",
      " The loss is 0.3711245357990265 and number of training samples processsed : 25664\n",
      " The loss is 0.31973573565483093 and number of training samples processsed : 32064\n",
      " The loss is 0.268609881401062 and number of training samples processsed : 38464\n",
      " The loss is 0.4421165883541107 and number of training samples processsed : 44864\n",
      " The loss is 0.33106255531311035 and number of training samples processsed : 51264\n",
      " The loss is 0.3915732502937317 and number of training samples processsed : 57664\n",
      "Test Error: \n",
      " Accuracy: 86.0%, Avg loss: 0.376542 \n",
      "\n",
      "Epoch 4 \n",
      "\n",
      " The loss is 0.2013939917087555 and number of training samples processsed : 64\n",
      " The loss is 0.3298744559288025 and number of training samples processsed : 6464\n",
      " The loss is 0.22399094700813293 and number of training samples processsed : 12864\n",
      " The loss is 0.29988184571266174 and number of training samples processsed : 19264\n",
      " The loss is 0.34290027618408203 and number of training samples processsed : 25664\n",
      " The loss is 0.32525449991226196 and number of training samples processsed : 32064\n",
      " The loss is 0.25400257110595703 and number of training samples processsed : 38464\n",
      " The loss is 0.3901592791080475 and number of training samples processsed : 44864\n",
      " The loss is 0.32406872510910034 and number of training samples processsed : 51264\n",
      " The loss is 0.3647022247314453 and number of training samples processsed : 57664\n",
      "Test Error: \n",
      " Accuracy: 85.9%, Avg loss: 0.375468 \n",
      "\n",
      "Epoch 5 \n",
      "\n",
      " The loss is 0.22282275557518005 and number of training samples processsed : 64\n",
      " The loss is 0.3037627339363098 and number of training samples processsed : 6464\n",
      " The loss is 0.19733461737632751 and number of training samples processsed : 12864\n",
      " The loss is 0.23490026593208313 and number of training samples processsed : 19264\n",
      " The loss is 0.35852718353271484 and number of training samples processsed : 25664\n",
      " The loss is 0.2862541973590851 and number of training samples processsed : 32064\n",
      " The loss is 0.2209484875202179 and number of training samples processsed : 38464\n",
      " The loss is 0.35095104575157166 and number of training samples processsed : 44864\n",
      " The loss is 0.3164818286895752 and number of training samples processsed : 51264\n",
      " The loss is 0.354255735874176 and number of training samples processsed : 57664\n",
      "Test Error: \n",
      " Accuracy: 87.1%, Avg loss: 0.357331 \n",
      "\n",
      "Complete\n"
     ]
    }
   ],
   "source": [
    "epochs = 5\n",
    "for t in range(epochs):\n",
    "    print(f\"Epoch {t + 1} \\n\")\n",
    "    train(train_dataloader,model,loss_fn,optimizer)\n",
    "    test(test_dataloader,model,loss_fn)\n",
    "print(\"Complete\")"
   ]
  },
  {
   "cell_type": "markdown",
   "id": "8de648fc",
   "metadata": {},
   "source": [
    "# Saving the Model\n",
    "A common way to save a model is to serialize the internal state dictionary (containing the model parameters)."
   ]
  },
  {
   "cell_type": "code",
   "execution_count": 28,
   "id": "db016d7f",
   "metadata": {},
   "outputs": [],
   "source": [
    "torch.save(model.state_dict(),\"model\")"
   ]
  },
  {
   "cell_type": "markdown",
   "id": "60a49324",
   "metadata": {},
   "source": [
    "## Loading the Model\n",
    "The process for loading a model includes re-creating the model structure and loading the state dictionary into it."
   ]
  },
  {
   "cell_type": "code",
   "execution_count": 32,
   "id": "5d06b7db",
   "metadata": {},
   "outputs": [
    {
     "data": {
      "text/plain": [
       "<All keys matched successfully>"
      ]
     },
     "execution_count": 32,
     "metadata": {},
     "output_type": "execute_result"
    }
   ],
   "source": [
    "model = NeuralNetwork().to(device)\n",
    "model.load_state_dict(torch.load(\"model\",weights_only= True))"
   ]
  },
  {
   "cell_type": "markdown",
   "id": "92293284",
   "metadata": {},
   "source": [
    "This model can now be used to make predictions."
   ]
  },
  {
   "cell_type": "code",
   "execution_count": 33,
   "id": "790854cf",
   "metadata": {},
   "outputs": [],
   "source": [
    "classes = [\n",
    "    \"T-shirt/top\",\n",
    "    \"Trouser\",\n",
    "    \"Pullover\",\n",
    "    \"Dress\",\n",
    "    \"Coat\",\n",
    "    \"Sandal\",\n",
    "    \"Shirt\",\n",
    "    \"Sneaker\",\n",
    "    \"Bag\",\n",
    "    \"Ankle boot\",\n",
    "]"
   ]
  },
  {
   "cell_type": "code",
   "execution_count": 38,
   "id": "719a05cb",
   "metadata": {},
   "outputs": [
    {
     "name": "stdout",
     "output_type": "stream",
     "text": [
      "Predicted: \"Ankle boot\", Actual: \"Ankle boot\"\n"
     ]
    }
   ],
   "source": [
    "# testing on an example\n",
    "\n",
    "model.eval()\n",
    "x, y = test_data[0][0],test_data[0][1]\n",
    "with torch.no_grad():\n",
    "    x=x.to(device)\n",
    "    pred = model(x)\n",
    "    predicted, actual = classes[pred.argmax()], classes[y]\n",
    "    print(f'Predicted: \"{predicted}\", Actual: \"{actual}\"')"
   ]
  },
  {
   "cell_type": "code",
   "execution_count": null,
   "id": "52dfadd2",
   "metadata": {},
   "outputs": [],
   "source": []
  }
 ],
 "metadata": {
  "kernelspec": {
   "display_name": "env",
   "language": "python",
   "name": "python3"
  },
  "language_info": {
   "codemirror_mode": {
    "name": "ipython",
    "version": 3
   },
   "file_extension": ".py",
   "mimetype": "text/x-python",
   "name": "python",
   "nbconvert_exporter": "python",
   "pygments_lexer": "ipython3",
   "version": "3.13.1"
  }
 },
 "nbformat": 4,
 "nbformat_minor": 5
}
